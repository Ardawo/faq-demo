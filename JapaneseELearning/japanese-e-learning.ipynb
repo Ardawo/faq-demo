{
 "cells": [
  {
   "cell_type": "code",
   "execution_count": 26,
   "metadata": {
    "collapsed": true
   },
   "outputs": [],
   "source": [
    "import csv\n",
    "from PyCrowlingo import Client"
   ]
  },
  {
   "cell_type": "code",
   "execution_count": 27,
   "outputs": [],
   "source": [
    "client = Client(\"[TOKEN]\")\n",
    "model_id = \"japanese-e-learning\""
   ],
   "metadata": {
    "collapsed": false,
    "pycharm": {
     "name": "#%%\n"
    }
   }
  },
  {
   "cell_type": "code",
   "execution_count": 28,
   "outputs": [
    {
     "data": {
      "text/plain": "Create(model_id='GuiNczgj:')"
     },
     "execution_count": 28,
     "metadata": {},
     "output_type": "execute_result"
    }
   ],
   "source": [
    "client.model.create(model_id, category=\"faq\")"
   ],
   "metadata": {
    "collapsed": false,
    "pycharm": {
     "name": "#%%\n"
    }
   }
  },
  {
   "cell_type": "code",
   "execution_count": 29,
   "outputs": [],
   "source": [
    "def load_csv(filename):\n",
    "    with open(filename) as f:\n",
    "        return list(csv.DictReader(f))"
   ],
   "metadata": {
    "collapsed": false,
    "pycharm": {
     "name": "#%%\n"
    }
   }
  },
  {
   "cell_type": "code",
   "execution_count": 30,
   "outputs": [
    {
     "data": {
      "text/plain": "CreateQuestions(questions_id=['0', '1', '2', '3', '4', '5', '6', '7', '8', '9', '10', '11', '12', '13', '14', '15', '16', '17', '18', '19', '20', '21', '22', '23', '24', '25', '26', '27', '28', '29', '30', '31', '32', '33', '34', '35', '36', '37', '38', '39', '40', '41', '42', '43', '44', '45', '46', '47', '48', '49', '50', '51', '52', '53', '54', '55', '56', '57', '58', '59', '60', '61', '62', '63', '64', '65', '66', '67', '68', '69', '70', '71', '72', '73', '74', '75', '76', '77', '78', '79', '80', '81', '82', '83', '84', '85', '86', '87', '88', '89', '90', '91', '92', '93', '94', '95', '96', '97', '98', '99', '100', '101', '102', '103', '104', '105', '106', '107', '108', '109', '110', '111', '112', '113', '114', '115', '116', '117', '118', '119', '120', '121', '122', '123', '124', '125', '126', '127', '128', '129', '130', '131', '132', '133', '134', '135', '136', '137', '138', '139', '140', '141', '142', '143', '144', '145', '146', '147', '148', '149', '150', '151', '152', '153', '154', '155', '156', '157', '158', '159', '160', '161', '162', '163', '164', '165', '166', '167', '168', '169', '170', '171', '172', '173', '174', '175', '176', '177', '178', '179', '180', '181', '182', '183', '184', '185', '186', '187', '188', '189', '190', '191', '192', '193', '194', '195', '196', '197', '198', '199', '200', '201', '202', '203', '204', '205', '206', '207', '208', '209', '210', '211', '212', '213', '214', '215', '216', '217', '218', '219', '220', '221', '222', '223', '224', '225', '226', '227', '228', '229', '230', '231', '232', '233', '234', '235', '236', '237', '238', '239', '240', '241', '242', '243', '244', '245', '246', '247', '248', '249', '250', '251', '252', '253', '254', '255', '256', '257', '258', '259', '260', '261', '262', '263', '264', '265', '266', '267', '268', '269', '270', '271', '272', '273', '274', '275', '276', '277', '278', '279', '280', '281', '282', '283', '284', '285', '286', '287', '288', '289', '290', '291', '292', '293', '294', '295', '296', '297', '298', '299', '300', '301', '302', '303', '304', '305', '306', '307', '308', '309', '310', '311', '312', '313', '314', '315', '316', '317', '318', '319', '320', '321', '322', '323', '324', '325', '326', '327', '328', '329', '330', '331', '332', '333', '334', '335', '336', '337', '338', '339', '340', '341', '342', '343', '344', '345', '346', '347', '348', '349', '350', '351', '352', '353', '354', '355', '356', '357', '358', '359', '360', '361', '362', '363', '364', '365', '366', '367', '368', '369', '370', '371', '372', '373', '374', '375', '376', '377', '378', '379', '380', '381', '382', '383', '384', '385', '386', '387', '388', '389', '390', '391', '392', '393', '394', '395', '396', '397', '398', '399', '400', '401', '402', '403', '404', '405', '406', '407', '408', '409', '410', '411', '412', '413', '414', '415', '416', '417', '418', '419', '420', '421', '422', '423', '424', '425', '426'])"
     },
     "execution_count": 30,
     "metadata": {},
     "output_type": "execute_result"
    }
   ],
   "source": [
    "# load questions\n",
    "vo_qestions = load_csv(\"Questions.csv\")\n",
    "english_qestions = load_csv(\"Questions_english.csv\")\n",
    "questions = []\n",
    "for i, line in enumerate(vo_qestions):\n",
    "    questions.append({\"variations\": {\"ja\": line[\"Text\"], \"en\": english_qestions[i][\"Text\"]},\n",
    "                      \"id\": i, \"answer_id\": line[\" AID\"][1:]})\n",
    "client.faq.create_questions(model_id, questions)"
   ],
   "metadata": {
    "collapsed": false,
    "pycharm": {
     "name": "#%%\n"
    }
   }
  },
  {
   "cell_type": "code",
   "execution_count": 31,
   "outputs": [
    {
     "data": {
      "text/plain": "CreateAnswers(answers_id=['001', '002', '003', '004', '005', '006', '007', '008', '009', '010', '011', '012', '013', '014', '015', '016', '017', '018', '019', '020', '021', '022', '023', '024', '025', '026', '027', '028', '029', '030', '031', '032', '033', '034', '035', '036', '037', '038', '039', '040', '041', '042', '043', '044', '045', '046', '047', '048', '049', '050', '051', '052', '053', '054', '055', '056', '057', '058', '059', '060', '061', '062', '063', '064', '065', '066', '067', '068', '069', '070', '071', '072', '073', '074', '075', '076', '077', '078', '079'])"
     },
     "execution_count": 31,
     "metadata": {},
     "output_type": "execute_result"
    }
   ],
   "source": [
    "# load answers\n",
    "vo_answers = load_csv(\"Answers.csv\")\n",
    "english_answers = load_csv(\"Answers_english.csv\")\n",
    "answers = []\n",
    "for i, line in enumerate(vo_answers):\n",
    "    answers.append({\"variations\": {\"ja\": line[\"Text\"], \"en\": english_answers[i][\"Text\"]}, \"id\": line[\"AID\"][1:]})\n",
    "client.faq.create_answers(model_id, answers)\n"
   ],
   "metadata": {
    "collapsed": false,
    "pycharm": {
     "name": "#%%\n"
    }
   }
  },
  {
   "cell_type": "code",
   "execution_count": 32,
   "outputs": [
    {
     "name": "stderr",
     "output_type": "stream",
     "text": [
      "100%|██████████| 100/100 [00:12<00:00,  7.81it/s]\n"
     ]
    },
    {
     "name": "stdout",
     "output_type": "stream",
     "text": [
      "Trained japanese-e-learning in 0:00:10.773000\n"
     ]
    }
   ],
   "source": [
    "client.model.train(model_id)\n",
    "client.model.wait_training(model_id)"
   ],
   "metadata": {
    "collapsed": false,
    "pycharm": {
     "name": "#%%\n"
    }
   }
  },
  {
   "cell_type": "code",
   "execution_count": 33,
   "outputs": [
    {
     "data": {
      "text/plain": "Search(results=[FaqSearchResult(question=Question(variations={'en': \"I'm no longer in charge of class, so I want to unregister.\"}, id='261', answer_id='049'), answer=Answer(variations={'en': 'The changes about any class information are not reflected to kibaco as it is based on the information for about one month after starting the new semester. If you are no longer in charge of class, you will need to cancel your registration. To cancel registration, send an application email (subject name, class number, name of teacher to cancel, system ID for education and research of teacher to cancel) to the system management room 2 (replace ● with an at-mark of e-learning-ml ● ml.tmu.ac.jp) It is necessary to send the information system ID for education and research from the main teacher, or send it to the CC.'}, id='049'), similarity=0.73681640625)])"
     },
     "execution_count": 33,
     "metadata": {},
     "output_type": "execute_result"
    }
   ],
   "source": [
    "client.faq.search(model_id, \"Can I unregister as I am not in charge of class anymore ?\", prod_version=False)"
   ],
   "metadata": {
    "collapsed": false,
    "pycharm": {
     "name": "#%%\n"
    }
   }
  },
  {
   "cell_type": "code",
   "execution_count": 34,
   "outputs": [
    {
     "name": "stderr",
     "output_type": "stream",
     "text": [
      "100%|██████████| 100/100 [00:09<00:00, 10.40it/s]\n"
     ]
    },
    {
     "name": "stdout",
     "output_type": "stream",
     "text": [
      "Deployed japanese-e-learning in 0:00:08.133000\n"
     ]
    },
    {
     "data": {
      "text/plain": "Get(public=False, markers=[], description=None, name='japanese-e-learning', versions={'test': Version(metrics=None, version_id=2), 'prod': Version(metrics=None, version_id=2)}, category='faq', training_status='done', training_progress=100, training_error='None', training_start='2020-11-22 01:15:53.748000', training_end='2020-11-22 01:16:04.521000', deploying_start='2020-11-22 01:16:11.063000', deploying_end='2020-11-22 01:16:19.196000', owner='jonas.bouaziz@epita.fr', collaborators={}, metadata={'questions_markers': {}, 'answers_markers': {}, 'questions': 427, 'answers': 79})"
     },
     "execution_count": 34,
     "metadata": {},
     "output_type": "execute_result"
    }
   ],
   "source": [
    "client.model.deploy(model_id)\n",
    "client.model.wait_deploying(model_id)"
   ],
   "metadata": {
    "collapsed": false,
    "pycharm": {
     "name": "#%%\n"
    }
   }
  },
  {
   "cell_type": "code",
   "execution_count": 35,
   "outputs": [
    {
     "data": {
      "text/plain": "Search(results=[FaqSearchResult(question=Question(variations={'en': \"I'm no longer in charge of class, so I want to unregister.\"}, id='261', answer_id='049'), answer=Answer(variations={'en': 'The changes about any class information are not reflected to kibaco as it is based on the information for about one month after starting the new semester. If you are no longer in charge of class, you will need to cancel your registration. To cancel registration, send an application email (subject name, class number, name of teacher to cancel, system ID for education and research of teacher to cancel) to the system management room 2 (replace ● with an at-mark of e-learning-ml ● ml.tmu.ac.jp) It is necessary to send the information system ID for education and research from the main teacher, or send it to the CC.'}, id='049'), similarity=0.73681640625)])"
     },
     "execution_count": 35,
     "metadata": {},
     "output_type": "execute_result"
    }
   ],
   "source": [
    "client.faq.search(model_id, \"Can I unregister as I am not in charge of class anymore ?\", prod_version=True)"
   ],
   "metadata": {
    "collapsed": false,
    "pycharm": {
     "name": "#%%\n"
    }
   }
  }
 ],
 "metadata": {
  "kernelspec": {
   "display_name": "Python 3",
   "language": "python",
   "name": "python3"
  },
  "language_info": {
   "codemirror_mode": {
    "name": "ipython",
    "version": 2
   },
   "file_extension": ".py",
   "mimetype": "text/x-python",
   "name": "python",
   "nbconvert_exporter": "python",
   "pygments_lexer": "ipython2",
   "version": "2.7.6"
  }
 },
 "nbformat": 4,
 "nbformat_minor": 0
}